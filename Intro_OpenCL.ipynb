{
 "metadata": {
  "name": "",
  "signature": "sha256:0db20a4a52e006f4ceb568d18ea2b0301d9076cb205a397a89e082f2bdd3a12f"
 },
 "nbformat": 3,
 "nbformat_minor": 0,
 "worksheets": [
  {
   "cells": [
    {
     "cell_type": "markdown",
     "metadata": {},
     "source": [
      "Introduction to OpenCL\n",
      "===\n",
      "\n",
      "This introduction is based on following article: <br>\n",
      "http://www.drdobbs.com/parallel/a-gentle-introduction-to-opencl/231002854\n",
      "\n",
      "In this introduction, we use a game analogy.\n",
      "\n"
     ]
    },
    {
     "cell_type": "code",
     "collapsed": false,
     "input": [],
     "language": "python",
     "metadata": {},
     "outputs": []
    }
   ],
   "metadata": {}
  }
 ]
}