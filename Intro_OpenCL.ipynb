{
 "metadata": {
  "name": "",
  "signature": "sha256:324e1234f0461018f60d70a35cc73fa37eccdf0a4257a63a4f24c4cdde548fd5"
 },
 "nbformat": 3,
 "nbformat_minor": 0,
 "worksheets": [
  {
   "cells": [
    {
     "cell_type": "markdown",
     "metadata": {},
     "source": [
      "Introduction to OpenCL\n",
      "===\n",
      "\n",
      "This introduction is based on following article: <br>\n",
      "http://www.drdobbs.com/parallel/a-gentle-introduction-to-opencl/231002854\n",
      "\n",
      "In this introduction, we use a game analogy.<br>\n",
      "![Card Game v.s OpenCL](https://raw.githubusercontent.com/dboyliao/PyOpenCL_learn/master/fig/Scarpino1.gif)\n",
      "\n",
      "<font size='3'>\n",
      "- Device: OpenCL <font color='grass'>devices</font> correspond to the <font color='grass'>players</font>. Just as a player receives cards from the dealer, a device receives kernels from the host. In code, a device is represented by a <font color=\"red\">cl_device_id</font>.\n",
      "</font><br>\n",
      "\n",
      "<font size='3'>\n",
      "- Kernel: OpenCL <font color='grass'>kernels</font> correspond to the <font color=\"grass\">cards</font>. A host application distributes kernels to devices in much the same way a dealer distributes cards to players. In code, a kernel is represented by a <font color=\"red\">cl_kernel</font>.\n",
      "</font><br>\n",
      "\n",
      "<font size='3'>\n",
      "- Program: An OpenCL <font color=\"grass\">program</font> is like a <font color=\"grass\">deck of cards</font>. In the same way that a dealer selects cards from a deck, the host selects kernels from a program. In code, a program is represented by a <font color=\"red\">cl_program</font>.\n",
      "</font><br>\n",
      "\n",
      "<font size='3'>\n",
      "- Command queue: An OpenCL <font color=\"grass\">command queue</font> is like a <font color=\"grass\">player's hand</font>. Each player receives cards as part of a hand, and each device receives kernels through a command queue. In code, a command queue is represented by a <font color=\"red\">cl_command_queue</font>.\n",
      "</font><br>\n",
      "\n",
      "<font size='3'>\n",
      "- Context: OpenCL <font color=\"grass\">contexts</font> correspond to <font color=\"grass\">card tables</font>. Just as a card table makes it possible for players to transfer cards to one another, an OpenCL context allows devices to receive kernels and transfer data. In code, a context is represented by a <font color=\"red\">cl_context</font>.\n",
      "</font><br>"
     ]
    },
    {
     "cell_type": "code",
     "collapsed": false,
     "input": [
      "import pyopencl as cl"
     ],
     "language": "python",
     "metadata": {},
     "outputs": [],
     "prompt_number": 1
    },
    {
     "cell_type": "code",
     "collapsed": false,
     "input": [
      "platforms = cl.get_platforms()\n",
      "platform = platforms[0]\n",
      "platform.get_devices()"
     ],
     "language": "python",
     "metadata": {},
     "outputs": [
      {
       "metadata": {},
       "output_type": "pyout",
       "prompt_number": 15,
       "text": [
        "[<pyopencl.Device 'Intel(R) Core(TM) i5-3210M CPU @ 2.50GHz' on 'Apple' at 0xffffffff>,\n",
        " <pyopencl.Device 'HD Graphics 4000' on 'Apple' at 0x1024400>]"
       ]
      }
     ],
     "prompt_number": 15
    },
    {
     "cell_type": "code",
     "collapsed": false,
     "input": [],
     "language": "python",
     "metadata": {},
     "outputs": []
    }
   ],
   "metadata": {}
  }
 ]
}