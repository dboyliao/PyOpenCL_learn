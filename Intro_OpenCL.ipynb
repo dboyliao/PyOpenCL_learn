{
 "metadata": {
  "name": "",
  "signature": "sha256:e0e40d68aaf702423ffb598f6d9912cc28d5e719b4302ede0443328b1957a6b3"
 },
 "nbformat": 3,
 "nbformat_minor": 0,
 "worksheets": [
  {
   "cells": [
    {
     "cell_type": "markdown",
     "metadata": {},
     "source": [
      "Introduction to OpenCL\n",
      "===\n",
      "\n",
      "This introduction is based on following article: <br>\n",
      "http://www.drdobbs.com/parallel/a-gentle-introduction-to-opencl/231002854\n",
      "\n",
      "In this introduction, we use a game analogy.<br>\n",
      "![Card Game v.s OpenCL](https://raw.github.com/dboyliao/PyOpenCL_learn/master/fig/Scarpino1.png)\n"
     ]
    },
    {
     "cell_type": "code",
     "collapsed": false,
     "input": [],
     "language": "python",
     "metadata": {},
     "outputs": []
    }
   ],
   "metadata": {}
  }
 ]
}