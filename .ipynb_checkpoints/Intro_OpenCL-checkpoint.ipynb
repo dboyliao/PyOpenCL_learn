{
 "metadata": {
  "name": "",
  "signature": "sha256:f0a94fe78d908af63fc078157f5820f5d44dac42575e0c65a067547da1c52100"
 },
 "nbformat": 3,
 "nbformat_minor": 0,
 "worksheets": [
  {
   "cells": [
    {
     "cell_type": "markdown",
     "metadata": {},
     "source": [
      "Introduction to OpenCL\n",
      "===\n",
      "\n",
      "This introduction is based on following article: <br>\n",
      "http://www.drdobbs.com/parallel/a-gentle-introduction-to-opencl/231002854\n",
      "\n",
      "In this introduction, we use a game analogy.<br>\n",
      "![Card Game v.s OpenCL](https://raw.githubusercontent.com/dboyliao/PyOpenCL_learn/master/fig/Scarpino1.gif)\n",
      "\n",
      "<font size='3'>\n",
      "- Device: OpenCL <font color='grass'>devices</font> correspond to the <font color='grass'>players</font>. Just as a player receives cards from the dealer, a device receives kernels from the host. In code, a device is represented by a <font color=\"red\">cl_device_id</font>.\n",
      "</font><br>\n",
      "\n",
      "<font size='3'>\n",
      "- Kernel: OpenCL <font color='grass'>kernels</font> correspond to the <font color=\"grass\">cards</font>. A host application distributes kernels to devices in much the same way a dealer distributes cards to players. In code, a kernel is represented by a <font color=\"red\">cl_kernel</font>.\n",
      "</font><br>\n",
      "\n",
      "<font size='3'>\n",
      "- Program: An OpenCL <font color=\"grass\">program</font> is like a deck of <font color=\"grass\">cards</font>. In the same way that a dealer selects cards from a deck, the host selects kernels from a program. In code, a program is represented by a <font color=\"red\">cl_program</font>.\n",
      "</font><br>\n",
      "\n",
      "<font size='3'>\n",
      "- Command queue: An OpenCL <font color=\"grass\">command queue</font> is like a <font color=\"grass\">player's hand</font>. Each player receives cards as part of a hand, and each device receives kernels through a command queue. In code, a command queue is represented by a <font color=\"red\">cl_command_queue</font>.\n",
      "</font><br>\n",
      "\n",
      "<font size='3'>\n",
      "- Context: OpenCL <font color=\"grass\">contexts</font> correspond to <font color=\"grass\">card tables</font>. Just as a card table makes it possible for players to transfer cards to one another, an OpenCL context allows devices to receive kernels and transfer data. In code, a context is represented by a <font color=\"red\">cl_context</font>.\n",
      "</font><br>"
     ]
    },
    {
     "cell_type": "code",
     "collapsed": false,
     "input": [],
     "language": "python",
     "metadata": {},
     "outputs": []
    }
   ],
   "metadata": {}
  }
 ]
}